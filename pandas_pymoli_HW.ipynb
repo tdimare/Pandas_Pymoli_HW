{
 "cells": [
  {
   "cell_type": "markdown",
   "metadata": {},
   "source": [
    "### Heroes Of Pymoli Data Analysis\n",
    "* Of the 1163 active players, the vast majority are male (84%). There also exists, a smaller, but notable proportion of female players (14%).\n",
    "\n",
    "* Our peak age demographic falls between 20-24 (44.8%) with secondary groups falling between 15-19 (18.60%) and 25-29 (13.4%).  \n",
    "-----"
   ]
  },
  {
   "cell_type": "markdown",
   "metadata": {},
   "source": [
    "### Note\n",
    "* Instructions have been included for each segment. You do not have to follow them exactly, but they are included to help you think through the steps."
   ]
  },
  {
   "cell_type": "code",
   "execution_count": 202,
   "metadata": {},
   "outputs": [
    {
     "data": {
      "text/html": [
       "<div>\n",
       "<style scoped>\n",
       "    .dataframe tbody tr th:only-of-type {\n",
       "        vertical-align: middle;\n",
       "    }\n",
       "\n",
       "    .dataframe tbody tr th {\n",
       "        vertical-align: top;\n",
       "    }\n",
       "\n",
       "    .dataframe thead th {\n",
       "        text-align: right;\n",
       "    }\n",
       "</style>\n",
       "<table border=\"1\" class=\"dataframe\">\n",
       "  <thead>\n",
       "    <tr style=\"text-align: right;\">\n",
       "      <th></th>\n",
       "      <th>Purchase ID</th>\n",
       "      <th>SN</th>\n",
       "      <th>Age</th>\n",
       "      <th>Gender</th>\n",
       "      <th>Item ID</th>\n",
       "      <th>Item Name</th>\n",
       "      <th>Price</th>\n",
       "    </tr>\n",
       "  </thead>\n",
       "  <tbody>\n",
       "    <tr>\n",
       "      <th>0</th>\n",
       "      <td>0</td>\n",
       "      <td>Lisim78</td>\n",
       "      <td>20</td>\n",
       "      <td>Male</td>\n",
       "      <td>108</td>\n",
       "      <td>Extraction, Quickblade Of Trembling Hands</td>\n",
       "      <td>3.53</td>\n",
       "    </tr>\n",
       "    <tr>\n",
       "      <th>1</th>\n",
       "      <td>1</td>\n",
       "      <td>Lisovynya38</td>\n",
       "      <td>40</td>\n",
       "      <td>Male</td>\n",
       "      <td>143</td>\n",
       "      <td>Frenzied Scimitar</td>\n",
       "      <td>1.56</td>\n",
       "    </tr>\n",
       "    <tr>\n",
       "      <th>2</th>\n",
       "      <td>2</td>\n",
       "      <td>Ithergue48</td>\n",
       "      <td>24</td>\n",
       "      <td>Male</td>\n",
       "      <td>92</td>\n",
       "      <td>Final Critic</td>\n",
       "      <td>4.88</td>\n",
       "    </tr>\n",
       "    <tr>\n",
       "      <th>3</th>\n",
       "      <td>3</td>\n",
       "      <td>Chamassasya86</td>\n",
       "      <td>24</td>\n",
       "      <td>Male</td>\n",
       "      <td>100</td>\n",
       "      <td>Blindscythe</td>\n",
       "      <td>3.27</td>\n",
       "    </tr>\n",
       "    <tr>\n",
       "      <th>4</th>\n",
       "      <td>4</td>\n",
       "      <td>Iskosia90</td>\n",
       "      <td>23</td>\n",
       "      <td>Male</td>\n",
       "      <td>131</td>\n",
       "      <td>Fury</td>\n",
       "      <td>1.44</td>\n",
       "    </tr>\n",
       "  </tbody>\n",
       "</table>\n",
       "</div>"
      ],
      "text/plain": [
       "   Purchase ID             SN  Age Gender  Item ID  \\\n",
       "0            0        Lisim78   20   Male      108   \n",
       "1            1    Lisovynya38   40   Male      143   \n",
       "2            2     Ithergue48   24   Male       92   \n",
       "3            3  Chamassasya86   24   Male      100   \n",
       "4            4      Iskosia90   23   Male      131   \n",
       "\n",
       "                                   Item Name  Price  \n",
       "0  Extraction, Quickblade Of Trembling Hands   3.53  \n",
       "1                          Frenzied Scimitar   1.56  \n",
       "2                               Final Critic   4.88  \n",
       "3                                Blindscythe   3.27  \n",
       "4                                       Fury   1.44  "
      ]
     },
     "execution_count": 202,
     "metadata": {},
     "output_type": "execute_result"
    }
   ],
   "source": [
    "# Dependencies and Setup\n",
    "import pandas as pd\n",
    "import numpy as np\n",
    "\n",
    "# File to Load (Remember to Change These)\n",
    "file_to_load = \"Resources/Pymoli_data.csv\"\n",
    "\n",
    "# Read Purchasing File and store into Pandas data frame\n",
    "purchase_data_df = pd.read_csv(file_to_load, low_memory=False)\n",
    "purchase_data_disp = pd.DataFrame(purchase_data_df)\n",
    "purchase_data_disp.head()"
   ]
  },
  {
   "cell_type": "markdown",
   "metadata": {},
   "source": [
    "## Player Count"
   ]
  },
  {
   "cell_type": "markdown",
   "metadata": {},
   "source": [
    "* Display the total number of players\n"
   ]
  },
  {
   "cell_type": "code",
   "execution_count": 203,
   "metadata": {},
   "outputs": [
    {
     "data": {
      "text/html": [
       "<div>\n",
       "<style scoped>\n",
       "    .dataframe tbody tr th:only-of-type {\n",
       "        vertical-align: middle;\n",
       "    }\n",
       "\n",
       "    .dataframe tbody tr th {\n",
       "        vertical-align: top;\n",
       "    }\n",
       "\n",
       "    .dataframe thead th {\n",
       "        text-align: right;\n",
       "    }\n",
       "</style>\n",
       "<table border=\"1\" class=\"dataframe\">\n",
       "  <thead>\n",
       "    <tr style=\"text-align: right;\">\n",
       "      <th></th>\n",
       "      <th>Total SN</th>\n",
       "    </tr>\n",
       "  </thead>\n",
       "  <tbody>\n",
       "    <tr>\n",
       "      <th>0</th>\n",
       "      <td>576</td>\n",
       "    </tr>\n",
       "  </tbody>\n",
       "</table>\n",
       "</div>"
      ],
      "text/plain": [
       "   Total SN\n",
       "0       576"
      ]
     },
     "execution_count": 203,
     "metadata": {},
     "output_type": "execute_result"
    }
   ],
   "source": [
    "#length of unique players, no duplicates\n",
    "playercount = len(purchase_data_df[\"SN\"].unique())\n",
    "\n",
    "#make dataframe\n",
    "playercount_disp = pd.DataFrame({\"Total SN\":[playercount]})\n",
    "playercount_disp.head()"
   ]
  },
  {
   "cell_type": "markdown",
   "metadata": {},
   "source": [
    "## Purchasing Analysis (Total)"
   ]
  },
  {
   "cell_type": "markdown",
   "metadata": {},
   "source": [
    "* Run basic calculations to obtain number of unique items, average price, etc.\n",
    "\n",
    "\n",
    "* Create a summary data frame to hold the results\n",
    "\n",
    "\n",
    "* Optional: give the displayed data cleaner formatting\n",
    "\n",
    "\n",
    "* Display the summary data frame\n"
   ]
  },
  {
   "cell_type": "code",
   "execution_count": 204,
   "metadata": {
    "scrolled": false
   },
   "outputs": [
    {
     "data": {
      "text/html": [
       "<div>\n",
       "<style scoped>\n",
       "    .dataframe tbody tr th:only-of-type {\n",
       "        vertical-align: middle;\n",
       "    }\n",
       "\n",
       "    .dataframe tbody tr th {\n",
       "        vertical-align: top;\n",
       "    }\n",
       "\n",
       "    .dataframe thead th {\n",
       "        text-align: right;\n",
       "    }\n",
       "</style>\n",
       "<table border=\"1\" class=\"dataframe\">\n",
       "  <thead>\n",
       "    <tr style=\"text-align: right;\">\n",
       "      <th></th>\n",
       "      <th>Average Price</th>\n",
       "      <th>Number of Purchases</th>\n",
       "      <th>Number of Unique Items</th>\n",
       "      <th>Total Revenue</th>\n",
       "    </tr>\n",
       "  </thead>\n",
       "  <tbody>\n",
       "    <tr>\n",
       "      <th>0</th>\n",
       "      <td>3.050987</td>\n",
       "      <td>780</td>\n",
       "      <td>183</td>\n",
       "      <td>2379.77</td>\n",
       "    </tr>\n",
       "  </tbody>\n",
       "</table>\n",
       "</div>"
      ],
      "text/plain": [
       "   Average Price  Number of Purchases  Number of Unique Items  Total Revenue\n",
       "0       3.050987                  780                     183        2379.77"
      ]
     },
     "execution_count": 204,
     "metadata": {},
     "output_type": "execute_result"
    }
   ],
   "source": [
    "#Calculate from purchase data\n",
    "#total items\n",
    "item_count = len(purchase_data_df['Item ID'].unique())\n",
    "\n",
    "#average price\n",
    "average_item_price = purchase_data_df['Price'].mean()\n",
    "\n",
    "#the total number of purchase made in data\n",
    "purchase_count = len(purchase_data_df)\n",
    "\n",
    "#total purchase value/revenue for total data\n",
    "total_purchase_value = purchase_data_df['Price'].sum()\n",
    "\n",
    "#make dataframe\n",
    "summary_table = pd.DataFrame([{'Average Price': average_item_price, 'Number of Unique Items' : item_count, \"Total Revenue\": total_purchase_value, 'Number of Purchases': purchase_count}])\n",
    "summary_table.head()\n"
   ]
  },
  {
   "cell_type": "markdown",
   "metadata": {},
   "source": [
    "## Gender Demographics"
   ]
  },
  {
   "cell_type": "markdown",
   "metadata": {},
   "source": [
    "* Percentage and Count of Male Players\n",
    "\n",
    "\n",
    "* Percentage and Count of Female Players\n",
    "\n",
    "\n",
    "* Percentage and Count of Other / Non-Disclosed\n",
    "\n",
    "\n"
   ]
  },
  {
   "cell_type": "code",
   "execution_count": 205,
   "metadata": {},
   "outputs": [
    {
     "data": {
      "text/html": [
       "<style  type=\"text/css\" >\n",
       "</style><table id=\"T_cf4c2b3a_9259_11e9_8a09_60f81da823c8\" ><thead>    <tr>        <th class=\"blank level0\" ></th>        <th class=\"col_heading level0 col0\" >Count</th>        <th class=\"col_heading level0 col1\" >percent</th>    </tr></thead><tbody>\n",
       "                <tr>\n",
       "                        <th id=\"T_cf4c2b3a_9259_11e9_8a09_60f81da823c8level0_row0\" class=\"row_heading level0 row0\" >Male</th>\n",
       "                        <td id=\"T_cf4c2b3a_9259_11e9_8a09_60f81da823c8row0_col0\" class=\"data row0 col0\" >652</td>\n",
       "                        <td id=\"T_cf4c2b3a_9259_11e9_8a09_60f81da823c8row0_col1\" class=\"data row0 col1\" >83.59%</td>\n",
       "            </tr>\n",
       "            <tr>\n",
       "                        <th id=\"T_cf4c2b3a_9259_11e9_8a09_60f81da823c8level0_row1\" class=\"row_heading level0 row1\" >Female</th>\n",
       "                        <td id=\"T_cf4c2b3a_9259_11e9_8a09_60f81da823c8row1_col0\" class=\"data row1 col0\" >113</td>\n",
       "                        <td id=\"T_cf4c2b3a_9259_11e9_8a09_60f81da823c8row1_col1\" class=\"data row1 col1\" >14.49%</td>\n",
       "            </tr>\n",
       "            <tr>\n",
       "                        <th id=\"T_cf4c2b3a_9259_11e9_8a09_60f81da823c8level0_row2\" class=\"row_heading level0 row2\" >Other / Non-Disclosed</th>\n",
       "                        <td id=\"T_cf4c2b3a_9259_11e9_8a09_60f81da823c8row2_col0\" class=\"data row2 col0\" >15</td>\n",
       "                        <td id=\"T_cf4c2b3a_9259_11e9_8a09_60f81da823c8row2_col1\" class=\"data row2 col1\" >1.92%</td>\n",
       "            </tr>\n",
       "    </tbody></table>"
      ],
      "text/plain": [
       "<pandas.io.formats.style.Styler at 0x12145be10>"
      ]
     },
     "execution_count": 205,
     "metadata": {},
     "output_type": "execute_result"
    }
   ],
   "source": [
    "gender_data = purchase_data_df[['Purchase ID', 'Gender']]\n",
    "gender_count = gender_data['Gender'].value_counts()\n",
    "gender_tot = gender_count.sum()\n",
    "percent = gender_count / gender_tot *100\n",
    "\n",
    "gender_result = pd.DataFrame({'Count' : gender_count, 'percent':percent})\n",
    "gender_result.index.name = None\n",
    "gender_result.sort_values(['Count'], ascending = False).style.format({'percent':\"{:.2f}%\"})"
   ]
  },
  {
   "cell_type": "markdown",
   "metadata": {},
   "source": [
    "\n",
    "## Purchasing Analysis (Gender)"
   ]
  },
  {
   "cell_type": "markdown",
   "metadata": {},
   "source": [
    "* Run basic calculations to obtain purchase count, avg. purchase price, avg. purchase total per person etc. by gender\n",
    "\n",
    "\n",
    "\n",
    "\n",
    "* Create a summary data frame to hold the results\n",
    "\n",
    "\n",
    "* Optional: give the displayed data cleaner formatting\n",
    "\n",
    "\n",
    "* Display the summary data frame"
   ]
  },
  {
   "cell_type": "code",
   "execution_count": 206,
   "metadata": {},
   "outputs": [
    {
     "name": "stdout",
     "output_type": "stream",
     "text": [
      "gender_purchase_total\n",
      "Gender\n",
      "Female                    361.94\n",
      "Male                     1967.64\n",
      "Other / Non-Disclosed      50.19\n",
      "Name: Total Purchase Value, dtype: float64\n",
      "gender_average\n",
      "Gender\n",
      "Female                   3.203009\n",
      "Male                     3.017853\n",
      "Other / Non-Disclosed    3.346000\n",
      "Name: Average Purchase Total, dtype: float64\n",
      "gender_counts\n",
      "Gender\n",
      "Female                   113\n",
      "Male                     652\n",
      "Other / Non-Disclosed     15\n",
      "Name: Purchase Count, dtype: int64\n",
      "gender_total_purchase\n",
      "Gender\n",
      "Female                   4.468395\n",
      "Male                     4.065372\n",
      "Other / Non-Disclosed    4.562727\n",
      "Name: Price, dtype: float64\n"
     ]
    },
    {
     "data": {
      "text/html": [
       "<div>\n",
       "<style scoped>\n",
       "    .dataframe tbody tr th:only-of-type {\n",
       "        vertical-align: middle;\n",
       "    }\n",
       "\n",
       "    .dataframe tbody tr th {\n",
       "        vertical-align: top;\n",
       "    }\n",
       "\n",
       "    .dataframe thead th {\n",
       "        text-align: right;\n",
       "    }\n",
       "</style>\n",
       "<table border=\"1\" class=\"dataframe\">\n",
       "  <thead>\n",
       "    <tr style=\"text-align: right;\">\n",
       "      <th></th>\n",
       "      <th>Total Purchase Value</th>\n",
       "      <th>Average Purchase Price</th>\n",
       "      <th>Purchase Count</th>\n",
       "      <th>Avg Total Purchase Per Person</th>\n",
       "    </tr>\n",
       "    <tr>\n",
       "      <th>Gender</th>\n",
       "      <th></th>\n",
       "      <th></th>\n",
       "      <th></th>\n",
       "      <th></th>\n",
       "    </tr>\n",
       "  </thead>\n",
       "  <tbody>\n",
       "    <tr>\n",
       "      <th>Female</th>\n",
       "      <td>361.94</td>\n",
       "      <td>3.203009</td>\n",
       "      <td>113</td>\n",
       "      <td>4.468395</td>\n",
       "    </tr>\n",
       "    <tr>\n",
       "      <th>Male</th>\n",
       "      <td>1967.64</td>\n",
       "      <td>3.017853</td>\n",
       "      <td>652</td>\n",
       "      <td>4.065372</td>\n",
       "    </tr>\n",
       "    <tr>\n",
       "      <th>Other / Non-Disclosed</th>\n",
       "      <td>50.19</td>\n",
       "      <td>3.346000</td>\n",
       "      <td>15</td>\n",
       "      <td>4.562727</td>\n",
       "    </tr>\n",
       "  </tbody>\n",
       "</table>\n",
       "</div>"
      ],
      "text/plain": [
       "                       Total Purchase Value  Average Purchase Price  \\\n",
       "Gender                                                                \n",
       "Female                               361.94                3.203009   \n",
       "Male                                1967.64                3.017853   \n",
       "Other / Non-Disclosed                 50.19                3.346000   \n",
       "\n",
       "                       Purchase Count  Avg Total Purchase Per Person  \n",
       "Gender                                                                \n",
       "Female                            113                       4.468395  \n",
       "Male                              652                       4.065372  \n",
       "Other / Non-Disclosed              15                       4.562727  "
      ]
     },
     "execution_count": 206,
     "metadata": {},
     "output_type": "execute_result"
    }
   ],
   "source": [
    "gender_purchase_total = purchase_data_df.groupby([\"Gender\"]).sum()[\"Price\"].rename(\"Total Purchase Value\")\n",
    "gender_average = purchase_data_df.groupby([\"Gender\"]).mean()[\"Price\"].rename(\"Average Purchase Total\")\n",
    "gender_counts = purchase_data_df.groupby([\"Gender\"]).count()[\"Price\"].rename(\"Purchase Count\")\n",
    "average_total_purchase = purchase_data_df.groupby([\"SN\"])[[\"Price\",\"Gender\"]].agg({\"Price\" : \"sum\", \"Gender\" : \"max\"})\n",
    "average_total_purchase\n",
    "gender_total_purchase = average_total_purchase.groupby([\"Gender\"]).mean()[\"Price\"]\n",
    "gender_total_purchase\n",
    "print(\"gender_purchase_total\")\n",
    "print(gender_purchase_total)\n",
    "print(\"gender_average\")\n",
    "print(gender_average)\n",
    "print(\"gender_counts\")\n",
    "print(gender_counts)\n",
    "print(\"gender_total_purchase\")\n",
    "print(gender_total_purchase)\n",
    "\n",
    "purchase_gender = pd.DataFrame({'Total Purchase Value' : gender_purchase_total, 'Average Purchase Price' : gender_average, 'Purchase Count' : gender_counts, 'Avg Total Purchase Per Person' : gender_total_purchase})\n",
    "purchase_gender\n",
    "#gender_data[\"Average Purchase Price\"] = gender_data[\"Average Purchase Price\"].map(\"${:,.2f}\".format)\n",
    "#gender_data[\"Average Purchase Price\"] = gender_data[\"Total Purchase Value\"].map(\"${:,.2f}\".format)\n",
    "#gender_data[\"Average Purchase Price\"] = gender_data[\"Purchase Count\"].map(\"${:,.2f}\".format)\n",
    "#gender_data[\"Average Purchase Price\"] = gender_data[\"Total Average Purchase Value\"].map(\"${:,.2f}\".format)\n",
    "#gender_data.head()\n",
    "\n",
    "#gender_data[\"Average Purchase Price per Person\"] = gender_data[\"Average Purchase Price\"].map(\"${:,.2f}\".format)\n",
    "#gender_data[\"Average Purchase Price per Person\"] = gender_data[\"Average Purchase Price\"].map(\"${:,.2f}\".format)\n",
    "#gender_data[\"Average Purchase Price per Person\"] = gender_data[\"Average Purchase Price\"].map(\"${:,.2f}\".format)\n",
    "#gender_data[\"Average Purchase Price per Person\"] = gender_data[\"Average Purchase Price\"].map(\"${:,.2f}\".format)"
   ]
  },
  {
   "cell_type": "code",
   "execution_count": 207,
   "metadata": {},
   "outputs": [
    {
     "data": {
      "text/plain": [
       "Gender\n",
       "Female                   4.468395\n",
       "Male                     4.065372\n",
       "Other / Non-Disclosed    4.562727\n",
       "Name: Price, dtype: float64"
      ]
     },
     "execution_count": 207,
     "metadata": {},
     "output_type": "execute_result"
    }
   ],
   "source": [
    "average_total_purchase = purchase_data_df.groupby([\"SN\"])[[\"Price\",\"Gender\"]].agg({\"Price\" : \"sum\", \"Gender\" : \"max\"})\n",
    "average_total_purchase\n",
    "gender_total_purchase = average_total_purchase.groupby([\"Gender\"]).mean()[\"Price\"]\n",
    "gender_total_purchase"
   ]
  },
  {
   "cell_type": "markdown",
   "metadata": {},
   "source": [
    "## Age Demographics"
   ]
  },
  {
   "cell_type": "markdown",
   "metadata": {},
   "source": [
    "* Establish bins for ages\n",
    "\n",
    "\n",
    "* Categorize the existing players using the age bins. Hint: use pd.cut()\n",
    "\n",
    "\n",
    "* Calculate the numbers and percentages by age group\n",
    "\n",
    "\n",
    "* Create a summary data frame to hold the results\n",
    "\n",
    "\n",
    "* Optional: round the percentage column to two decimal points\n",
    "\n",
    "\n",
    "* Display Age Demographics Table\n"
   ]
  },
  {
   "cell_type": "code",
   "execution_count": 208,
   "metadata": {},
   "outputs": [
    {
     "data": {
      "text/html": [
       "<style  type=\"text/css\" >\n",
       "</style><table id=\"T_cf72993e_9259_11e9_a82e_60f81da823c8\" ><thead>    <tr>        <th class=\"blank level0\" ></th>        <th class=\"col_heading level0 col0\" >count</th>        <th class=\"col_heading level0 col1\" >Percentage of Players</th>    </tr>    <tr>        <th class=\"index_name level0\" >Age Ranges</th>        <th class=\"blank\" ></th>        <th class=\"blank\" ></th>    </tr></thead><tbody>\n",
       "                <tr>\n",
       "                        <th id=\"T_cf72993e_9259_11e9_a82e_60f81da823c8level0_row0\" class=\"row_heading level0 row0\" ><10</th>\n",
       "                        <td id=\"T_cf72993e_9259_11e9_a82e_60f81da823c8row0_col0\" class=\"data row0 col0\" >32</td>\n",
       "                        <td id=\"T_cf72993e_9259_11e9_a82e_60f81da823c8row0_col1\" class=\"data row0 col1\" >5.56%</td>\n",
       "            </tr>\n",
       "            <tr>\n",
       "                        <th id=\"T_cf72993e_9259_11e9_a82e_60f81da823c8level0_row1\" class=\"row_heading level0 row1\" >10-14</th>\n",
       "                        <td id=\"T_cf72993e_9259_11e9_a82e_60f81da823c8row1_col0\" class=\"data row1 col0\" >54</td>\n",
       "                        <td id=\"T_cf72993e_9259_11e9_a82e_60f81da823c8row1_col1\" class=\"data row1 col1\" >9.38%</td>\n",
       "            </tr>\n",
       "            <tr>\n",
       "                        <th id=\"T_cf72993e_9259_11e9_a82e_60f81da823c8level0_row2\" class=\"row_heading level0 row2\" >15-19</th>\n",
       "                        <td id=\"T_cf72993e_9259_11e9_a82e_60f81da823c8row2_col0\" class=\"data row2 col0\" >200</td>\n",
       "                        <td id=\"T_cf72993e_9259_11e9_a82e_60f81da823c8row2_col1\" class=\"data row2 col1\" >34.72%</td>\n",
       "            </tr>\n",
       "            <tr>\n",
       "                        <th id=\"T_cf72993e_9259_11e9_a82e_60f81da823c8level0_row3\" class=\"row_heading level0 row3\" >20-24</th>\n",
       "                        <td id=\"T_cf72993e_9259_11e9_a82e_60f81da823c8row3_col0\" class=\"data row3 col0\" >325</td>\n",
       "                        <td id=\"T_cf72993e_9259_11e9_a82e_60f81da823c8row3_col1\" class=\"data row3 col1\" >56.42%</td>\n",
       "            </tr>\n",
       "            <tr>\n",
       "                        <th id=\"T_cf72993e_9259_11e9_a82e_60f81da823c8level0_row4\" class=\"row_heading level0 row4\" >25-29</th>\n",
       "                        <td id=\"T_cf72993e_9259_11e9_a82e_60f81da823c8row4_col0\" class=\"data row4 col0\" >129</td>\n",
       "                        <td id=\"T_cf72993e_9259_11e9_a82e_60f81da823c8row4_col1\" class=\"data row4 col1\" >22.40%</td>\n",
       "            </tr>\n",
       "            <tr>\n",
       "                        <th id=\"T_cf72993e_9259_11e9_a82e_60f81da823c8level0_row5\" class=\"row_heading level0 row5\" >30-34</th>\n",
       "                        <td id=\"T_cf72993e_9259_11e9_a82e_60f81da823c8row5_col0\" class=\"data row5 col0\" >33</td>\n",
       "                        <td id=\"T_cf72993e_9259_11e9_a82e_60f81da823c8row5_col1\" class=\"data row5 col1\" >5.73%</td>\n",
       "            </tr>\n",
       "            <tr>\n",
       "                        <th id=\"T_cf72993e_9259_11e9_a82e_60f81da823c8level0_row6\" class=\"row_heading level0 row6\" >35-39</th>\n",
       "                        <td id=\"T_cf72993e_9259_11e9_a82e_60f81da823c8row6_col0\" class=\"data row6 col0\" >7</td>\n",
       "                        <td id=\"T_cf72993e_9259_11e9_a82e_60f81da823c8row6_col1\" class=\"data row6 col1\" >1.22%</td>\n",
       "            </tr>\n",
       "            <tr>\n",
       "                        <th id=\"T_cf72993e_9259_11e9_a82e_60f81da823c8level0_row7\" class=\"row_heading level0 row7\" >40+</th>\n",
       "                        <td id=\"T_cf72993e_9259_11e9_a82e_60f81da823c8row7_col0\" class=\"data row7 col0\" >0</td>\n",
       "                        <td id=\"T_cf72993e_9259_11e9_a82e_60f81da823c8row7_col1\" class=\"data row7 col1\" >0.00%</td>\n",
       "            </tr>\n",
       "    </tbody></table>"
      ],
      "text/plain": [
       "<pandas.io.formats.style.Styler at 0x121339400>"
      ]
     },
     "execution_count": 208,
     "metadata": {},
     "output_type": "execute_result"
    }
   ],
   "source": [
    "age_bins = [0, 10, 15, 20, 25, 35, 40, 90, 99999]\n",
    "group_names = [\"<10\", \"10-14\", \"15-19\", \"20-24\", \"25-29\", \"30-34\", \"35-39\", \"40+\"]\n",
    "\n",
    "player_demographics = pd.DataFrame()\n",
    "\n",
    "player_demographics[\"Age Ranges\"] = pd.cut(purchase_data_df[\"Age\"], age_bins, labels=group_names)\n",
    "player_demographics[\"count\"] =1\n",
    "age_range = player_demographics.groupby([\"Age Ranges\"]).count()\n",
    "age_range\n",
    "age_range[\"Percentage of Players\"] = age_range[\"count\"]/playercount*100\n",
    "age_range\n",
    "age_range.style.format({\"Percentage of Players\":\"{:,.2f}%\"})"
   ]
  },
  {
   "cell_type": "markdown",
   "metadata": {},
   "source": [
    "## Purchasing Analysis (Age)"
   ]
  },
  {
   "cell_type": "markdown",
   "metadata": {},
   "source": [
    "* Bin the purchase_data data frame by age\n",
    "\n",
    "\n",
    "* Run basic calculations to obtain purchase count, avg. purchase price, avg. purchase total per person etc. in the table below\n",
    "\n",
    "\n",
    "* Create a summary data frame to hold the results\n",
    "\n",
    "\n",
    "* Optional: give the displayed data cleaner formatting\n",
    "\n",
    "\n",
    "* Display the summary data frame"
   ]
  },
  {
   "cell_type": "code",
   "execution_count": 216,
   "metadata": {},
   "outputs": [
    {
     "data": {
      "text/html": [
       "<div>\n",
       "<style scoped>\n",
       "    .dataframe tbody tr th:only-of-type {\n",
       "        vertical-align: middle;\n",
       "    }\n",
       "\n",
       "    .dataframe tbody tr th {\n",
       "        vertical-align: top;\n",
       "    }\n",
       "\n",
       "    .dataframe thead th {\n",
       "        text-align: right;\n",
       "    }\n",
       "</style>\n",
       "<table border=\"1\" class=\"dataframe\">\n",
       "  <thead>\n",
       "    <tr style=\"text-align: right;\">\n",
       "      <th></th>\n",
       "      <th>count</th>\n",
       "    </tr>\n",
       "    <tr>\n",
       "      <th>Age Ranges</th>\n",
       "      <th></th>\n",
       "    </tr>\n",
       "  </thead>\n",
       "  <tbody>\n",
       "    <tr>\n",
       "      <th>&lt;10</th>\n",
       "      <td>32</td>\n",
       "    </tr>\n",
       "    <tr>\n",
       "      <th>10-14</th>\n",
       "      <td>54</td>\n",
       "    </tr>\n",
       "    <tr>\n",
       "      <th>15-19</th>\n",
       "      <td>200</td>\n",
       "    </tr>\n",
       "    <tr>\n",
       "      <th>20-24</th>\n",
       "      <td>325</td>\n",
       "    </tr>\n",
       "    <tr>\n",
       "      <th>25-29</th>\n",
       "      <td>129</td>\n",
       "    </tr>\n",
       "    <tr>\n",
       "      <th>30-34</th>\n",
       "      <td>33</td>\n",
       "    </tr>\n",
       "    <tr>\n",
       "      <th>35-39</th>\n",
       "      <td>7</td>\n",
       "    </tr>\n",
       "    <tr>\n",
       "      <th>40+</th>\n",
       "      <td>0</td>\n",
       "    </tr>\n",
       "  </tbody>\n",
       "</table>\n",
       "</div>"
      ],
      "text/plain": [
       "            count\n",
       "Age Ranges       \n",
       "<10            32\n",
       "10-14          54\n",
       "15-19         200\n",
       "20-24         325\n",
       "25-29         129\n",
       "30-34          33\n",
       "35-39           7\n",
       "40+             0"
      ]
     },
     "execution_count": 216,
     "metadata": {},
     "output_type": "execute_result"
    }
   ],
   "source": [
    "age_bins = [0, 10, 15, 20, 25, 35, 40, 90, 99999]\n",
    "group_names = [\"<10\", \"10-14\", \"15-19\", \"20-24\", \"25-29\", \"30-34\", \"35-39\", \"40+\"]\n",
    "\n",
    "player_demographics = pd.DataFrame()\n",
    "\n",
    "player_demographics[\"Age Ranges\"] = pd.cut(purchase_data_df[\"Age\"], age_bins, labels=group_names)\n",
    "player_demographics[\"count\"] =1\n",
    "age_range = player_demographics.groupby([\"Age Ranges\"]).count()\n",
    "age_range\n",
    "average_purchase_price = \n",
    "\n",
    "#age_range[\"Percentage\"] = age_range[\"count\"]/playercount*100\n",
    "#age_range\n",
    "\n",
    "#total_purchase[\"Total Purchase Value\"] = age_range[\"Price\"].sum()\n",
    "#total_purchase\n",
    "\n",
    "#average_purchase_per_person = /\n",
    "#total_purchase_value = age_range[\"Price\"].sum()\n",
    "#total_purchase_value\n",
    "#total_purchase_value[\"Total Purchase Value\"] = gender_average*player_demographics[\"count\"]\n",
    "#total_purchase_value\n"
   ]
  },
  {
   "cell_type": "markdown",
   "metadata": {},
   "source": [
    "* Run basic calculations to obtain the results in the table below\n",
    "\n",
    "\n",
    "* Create a summary data frame to hold the results\n",
    "\n",
    "\n",
    "* Sort the total purchase value column in descending order\n",
    "\n",
    "\n",
    "* Optional: give the displayed data cleaner formatting\n",
    "\n",
    "\n",
    "* Display a preview of the summary data frame\n",
    "\n"
   ]
  },
  {
   "cell_type": "code",
   "execution_count": 210,
   "metadata": {},
   "outputs": [
    {
     "data": {
      "text/html": [
       "<style  type=\"text/css\" >\n",
       "</style><table id=\"T_cf799ffe_9259_11e9_81a5_60f81da823c8\" ><thead>    <tr>        <th class=\"blank level0\" ></th>        <th class=\"col_heading level0 col0\" >Purchase Count</th>        <th class=\"col_heading level0 col1\" >Average Purchase Price</th>        <th class=\"col_heading level0 col2\" >Total Purchase Value</th>    </tr>    <tr>        <th class=\"index_name level0\" >SN</th>        <th class=\"blank\" ></th>        <th class=\"blank\" ></th>        <th class=\"blank\" ></th>    </tr></thead><tbody>\n",
       "                <tr>\n",
       "                        <th id=\"T_cf799ffe_9259_11e9_81a5_60f81da823c8level0_row0\" class=\"row_heading level0 row0\" >Lisosia93</th>\n",
       "                        <td id=\"T_cf799ffe_9259_11e9_81a5_60f81da823c8row0_col0\" class=\"data row0 col0\" >5</td>\n",
       "                        <td id=\"T_cf799ffe_9259_11e9_81a5_60f81da823c8row0_col1\" class=\"data row0 col1\" >$3.79</td>\n",
       "                        <td id=\"T_cf799ffe_9259_11e9_81a5_60f81da823c8row0_col2\" class=\"data row0 col2\" >$18.96</td>\n",
       "            </tr>\n",
       "            <tr>\n",
       "                        <th id=\"T_cf799ffe_9259_11e9_81a5_60f81da823c8level0_row1\" class=\"row_heading level0 row1\" >Idastidru52</th>\n",
       "                        <td id=\"T_cf799ffe_9259_11e9_81a5_60f81da823c8row1_col0\" class=\"data row1 col0\" >4</td>\n",
       "                        <td id=\"T_cf799ffe_9259_11e9_81a5_60f81da823c8row1_col1\" class=\"data row1 col1\" >$3.86</td>\n",
       "                        <td id=\"T_cf799ffe_9259_11e9_81a5_60f81da823c8row1_col2\" class=\"data row1 col2\" >$15.45</td>\n",
       "            </tr>\n",
       "            <tr>\n",
       "                        <th id=\"T_cf799ffe_9259_11e9_81a5_60f81da823c8level0_row2\" class=\"row_heading level0 row2\" >Chamjask73</th>\n",
       "                        <td id=\"T_cf799ffe_9259_11e9_81a5_60f81da823c8row2_col0\" class=\"data row2 col0\" >3</td>\n",
       "                        <td id=\"T_cf799ffe_9259_11e9_81a5_60f81da823c8row2_col1\" class=\"data row2 col1\" >$4.61</td>\n",
       "                        <td id=\"T_cf799ffe_9259_11e9_81a5_60f81da823c8row2_col2\" class=\"data row2 col2\" >$13.83</td>\n",
       "            </tr>\n",
       "            <tr>\n",
       "                        <th id=\"T_cf799ffe_9259_11e9_81a5_60f81da823c8level0_row3\" class=\"row_heading level0 row3\" >Iral74</th>\n",
       "                        <td id=\"T_cf799ffe_9259_11e9_81a5_60f81da823c8row3_col0\" class=\"data row3 col0\" >4</td>\n",
       "                        <td id=\"T_cf799ffe_9259_11e9_81a5_60f81da823c8row3_col1\" class=\"data row3 col1\" >$3.40</td>\n",
       "                        <td id=\"T_cf799ffe_9259_11e9_81a5_60f81da823c8row3_col2\" class=\"data row3 col2\" >$13.62</td>\n",
       "            </tr>\n",
       "            <tr>\n",
       "                        <th id=\"T_cf799ffe_9259_11e9_81a5_60f81da823c8level0_row4\" class=\"row_heading level0 row4\" >Iskadarya95</th>\n",
       "                        <td id=\"T_cf799ffe_9259_11e9_81a5_60f81da823c8row4_col0\" class=\"data row4 col0\" >3</td>\n",
       "                        <td id=\"T_cf799ffe_9259_11e9_81a5_60f81da823c8row4_col1\" class=\"data row4 col1\" >$4.37</td>\n",
       "                        <td id=\"T_cf799ffe_9259_11e9_81a5_60f81da823c8row4_col2\" class=\"data row4 col2\" >$13.10</td>\n",
       "            </tr>\n",
       "    </tbody></table>"
      ],
      "text/plain": [
       "<pandas.io.formats.style.Styler at 0x12133c978>"
      ]
     },
     "execution_count": 210,
     "metadata": {},
     "output_type": "execute_result"
    }
   ],
   "source": [
    "#Top Spenders\n",
    "spender_sn = purchase_data_df.groupby(\"SN\")\n",
    "\n",
    "#counting the amount of purchases per Screen name / persion\n",
    "spender_purchase_count = spender_sn[\"Purchase ID\"].count()\n",
    "\n",
    "#calculate average purchase price per screen name\n",
    "spender_average_purchase_price = spender_sn[\"Price\"].mean()\n",
    "\n",
    "#total purcahse price for that person\n",
    "total_purchase_price_spender = spender_sn[\"Price\"].sum()\n",
    "\n",
    "#make dataframe\n",
    "highest_spenders = pd.DataFrame({'Purchase Count' : spender_purchase_count, 'Average Purchase Price' : spender_average_purchase_price, 'Total Purchase Value' : total_purchase_price_spender})\n",
    "highest_spenders\n",
    "\n",
    "top_five_spenders = highest_spenders.sort_values([\"Total Purchase Value\"], ascending=False).head()\n",
    "\n",
    "#format to look pretty\n",
    "top_five_spenders.style.format({\"Average Purchase Total\":\"${:,.2f}\",\"Average Purchase Price\":\"${:,.2f}\",\"Total Purchase Value\":\"${:,.2f}\"})"
   ]
  },
  {
   "cell_type": "markdown",
   "metadata": {},
   "source": [
    "## Most Popular Items"
   ]
  },
  {
   "cell_type": "markdown",
   "metadata": {},
   "source": [
    "* Retrieve the Item ID, Item Name, and Item Price columns\n",
    "\n",
    "\n",
    "* Group by Item ID and Item Name. Perform calculations to obtain purchase count, item price, and total purchase value\n",
    "\n",
    "\n",
    "* Create a summary data frame to hold the results\n",
    "\n",
    "\n",
    "* Sort the purchase count column in descending order\n",
    "\n",
    "\n",
    "* Optional: give the displayed data cleaner formatting\n",
    "\n",
    "\n",
    "* Display a preview of the summary data frame\n",
    "\n"
   ]
  },
  {
   "cell_type": "code",
   "execution_count": 211,
   "metadata": {},
   "outputs": [
    {
     "data": {
      "text/html": [
       "<style  type=\"text/css\" >\n",
       "</style><table id=\"T_cf80cc70_9259_11e9_860c_60f81da823c8\" ><thead>    <tr>        <th class=\"blank\" ></th>        <th class=\"blank level0\" ></th>        <th class=\"col_heading level0 col0\" >Purchase Count</th>        <th class=\"col_heading level0 col1\" >Item Price</th>        <th class=\"col_heading level0 col2\" >Total Purchase Value</th>    </tr>    <tr>        <th class=\"index_name level0\" >Item ID</th>        <th class=\"index_name level1\" >Item Name</th>        <th class=\"blank\" ></th>        <th class=\"blank\" ></th>        <th class=\"blank\" ></th>    </tr></thead><tbody>\n",
       "                <tr>\n",
       "                        <th id=\"T_cf80cc70_9259_11e9_860c_60f81da823c8level0_row0\" class=\"row_heading level0 row0\" >178</th>\n",
       "                        <th id=\"T_cf80cc70_9259_11e9_860c_60f81da823c8level1_row0\" class=\"row_heading level1 row0\" >Oathbreaker, Last Hope of the Breaking Storm</th>\n",
       "                        <td id=\"T_cf80cc70_9259_11e9_860c_60f81da823c8row0_col0\" class=\"data row0 col0\" >12</td>\n",
       "                        <td id=\"T_cf80cc70_9259_11e9_860c_60f81da823c8row0_col1\" class=\"data row0 col1\" >4.23</td>\n",
       "                        <td id=\"T_cf80cc70_9259_11e9_860c_60f81da823c8row0_col2\" class=\"data row0 col2\" >$50.76</td>\n",
       "            </tr>\n",
       "            <tr>\n",
       "                        <th id=\"T_cf80cc70_9259_11e9_860c_60f81da823c8level0_row1\" class=\"row_heading level0 row1\" >145</th>\n",
       "                        <th id=\"T_cf80cc70_9259_11e9_860c_60f81da823c8level1_row1\" class=\"row_heading level1 row1\" >Fiery Glass Crusader</th>\n",
       "                        <td id=\"T_cf80cc70_9259_11e9_860c_60f81da823c8row1_col0\" class=\"data row1 col0\" >9</td>\n",
       "                        <td id=\"T_cf80cc70_9259_11e9_860c_60f81da823c8row1_col1\" class=\"data row1 col1\" >4.58</td>\n",
       "                        <td id=\"T_cf80cc70_9259_11e9_860c_60f81da823c8row1_col2\" class=\"data row1 col2\" >$41.22</td>\n",
       "            </tr>\n",
       "            <tr>\n",
       "                        <th id=\"T_cf80cc70_9259_11e9_860c_60f81da823c8level0_row2\" class=\"row_heading level0 row2\" >108</th>\n",
       "                        <th id=\"T_cf80cc70_9259_11e9_860c_60f81da823c8level1_row2\" class=\"row_heading level1 row2\" >Extraction, Quickblade Of Trembling Hands</th>\n",
       "                        <td id=\"T_cf80cc70_9259_11e9_860c_60f81da823c8row2_col0\" class=\"data row2 col0\" >9</td>\n",
       "                        <td id=\"T_cf80cc70_9259_11e9_860c_60f81da823c8row2_col1\" class=\"data row2 col1\" >3.53</td>\n",
       "                        <td id=\"T_cf80cc70_9259_11e9_860c_60f81da823c8row2_col2\" class=\"data row2 col2\" >$31.77</td>\n",
       "            </tr>\n",
       "            <tr>\n",
       "                        <th id=\"T_cf80cc70_9259_11e9_860c_60f81da823c8level0_row3\" class=\"row_heading level0 row3\" >82</th>\n",
       "                        <th id=\"T_cf80cc70_9259_11e9_860c_60f81da823c8level1_row3\" class=\"row_heading level1 row3\" >Nirvana</th>\n",
       "                        <td id=\"T_cf80cc70_9259_11e9_860c_60f81da823c8row3_col0\" class=\"data row3 col0\" >9</td>\n",
       "                        <td id=\"T_cf80cc70_9259_11e9_860c_60f81da823c8row3_col1\" class=\"data row3 col1\" >4.9</td>\n",
       "                        <td id=\"T_cf80cc70_9259_11e9_860c_60f81da823c8row3_col2\" class=\"data row3 col2\" >$44.10</td>\n",
       "            </tr>\n",
       "            <tr>\n",
       "                        <th id=\"T_cf80cc70_9259_11e9_860c_60f81da823c8level0_row4\" class=\"row_heading level0 row4\" >19</th>\n",
       "                        <th id=\"T_cf80cc70_9259_11e9_860c_60f81da823c8level1_row4\" class=\"row_heading level1 row4\" >Pursuit, Cudgel of Necromancy</th>\n",
       "                        <td id=\"T_cf80cc70_9259_11e9_860c_60f81da823c8row4_col0\" class=\"data row4 col0\" >8</td>\n",
       "                        <td id=\"T_cf80cc70_9259_11e9_860c_60f81da823c8row4_col1\" class=\"data row4 col1\" >1.02</td>\n",
       "                        <td id=\"T_cf80cc70_9259_11e9_860c_60f81da823c8row4_col2\" class=\"data row4 col2\" >$8.16</td>\n",
       "            </tr>\n",
       "    </tbody></table>"
      ],
      "text/plain": [
       "<pandas.io.formats.style.Styler at 0x12133c668>"
      ]
     },
     "execution_count": 211,
     "metadata": {},
     "output_type": "execute_result"
    }
   ],
   "source": [
    "#most popular\n",
    "#purchase will be grouped by the specific ID and Name\n",
    "#item = highest_spenders_df[[\"Item ID\", \"Item Name\", \"Price\"]]\n",
    "item = purchase_data_disp.groupby([\"Item ID\", \"Item Name\"]).count()[\"Price\"]\n",
    "item_price = purchase_data_disp.groupby([\"Item ID\", \"Item Name\"])[\"Price\"].sum()\n",
    "item_total_purchase_value = purchase_data_disp.groupby([\"Item ID\", \"Item Name\"])[\"Price\"].sum()\n",
    "\n",
    "#Dataframe here\n",
    "#most_popular_items = pd.DataFrame({\"Purchase Count\": spender_purchase_count,\"Average Purchase Price\": spender_average_purchase_price,\"Total Purchase Value\": total_purchase_price_spender})\n",
    "#most_popular_items.head()\n",
    "\n",
    "#item_description = item.groupby([\"Item ID\",\"Item Name\"])[\"Purchase Count\"].sum()\n",
    "#item_description\n",
    "#counts how many times a specific item has been purchased\n",
    "#purchase_count = item_description[\"Purchase Count\"].sum()\n",
    "#purchase_count\n",
    "#purchase_count = item_count[\"Price\"].count()\n",
    "# here we calculate the purchase value per item \n",
    "#purchase_value = (item_stats[\"Price\"].sum()) \n",
    "\n",
    "# Find individual item price\n",
    "#item_price = purchase_value/purchase_count_item\n",
    "\n",
    "\n",
    "#sort by descending order because it says so\n",
    "most_popular_items_formatted = most_popular_items.sort_values([\"Purchase Count\"], ascending=False).head()\n",
    "most_popular_items_formatted\n",
    "\n",
    "# Format so it doesn't look ulgy af\n",
    "most_popular_items_formatted.style.format({\"Average Purchase Price\":\"${:,.2f}\",\"Total Purchase Value\":\"${:,.2f}\"})\n"
   ]
  },
  {
   "cell_type": "code",
   "execution_count": 212,
   "metadata": {},
   "outputs": [
    {
     "data": {
      "text/html": [
       "<style  type=\"text/css\" >\n",
       "</style><table id=\"T_cf855dba_9259_11e9_bcca_60f81da823c8\" ><thead>    <tr>        <th class=\"blank\" ></th>        <th class=\"blank level0\" ></th>        <th class=\"col_heading level0 col0\" >Purchase Count</th>        <th class=\"col_heading level0 col1\" >Item Price</th>        <th class=\"col_heading level0 col2\" >Total Purchase Value</th>    </tr>    <tr>        <th class=\"index_name level0\" >Item ID</th>        <th class=\"index_name level1\" >Item Name</th>        <th class=\"blank\" ></th>        <th class=\"blank\" ></th>        <th class=\"blank\" ></th>    </tr></thead><tbody>\n",
       "                <tr>\n",
       "                        <th id=\"T_cf855dba_9259_11e9_bcca_60f81da823c8level0_row0\" class=\"row_heading level0 row0\" >178</th>\n",
       "                        <th id=\"T_cf855dba_9259_11e9_bcca_60f81da823c8level1_row0\" class=\"row_heading level1 row0\" >Oathbreaker, Last Hope of the Breaking Storm</th>\n",
       "                        <td id=\"T_cf855dba_9259_11e9_bcca_60f81da823c8row0_col0\" class=\"data row0 col0\" >12</td>\n",
       "                        <td id=\"T_cf855dba_9259_11e9_bcca_60f81da823c8row0_col1\" class=\"data row0 col1\" >$4.23</td>\n",
       "                        <td id=\"T_cf855dba_9259_11e9_bcca_60f81da823c8row0_col2\" class=\"data row0 col2\" >$50.76</td>\n",
       "            </tr>\n",
       "            <tr>\n",
       "                        <th id=\"T_cf855dba_9259_11e9_bcca_60f81da823c8level0_row1\" class=\"row_heading level0 row1\" >145</th>\n",
       "                        <th id=\"T_cf855dba_9259_11e9_bcca_60f81da823c8level1_row1\" class=\"row_heading level1 row1\" >Fiery Glass Crusader</th>\n",
       "                        <td id=\"T_cf855dba_9259_11e9_bcca_60f81da823c8row1_col0\" class=\"data row1 col0\" >9</td>\n",
       "                        <td id=\"T_cf855dba_9259_11e9_bcca_60f81da823c8row1_col1\" class=\"data row1 col1\" >$4.58</td>\n",
       "                        <td id=\"T_cf855dba_9259_11e9_bcca_60f81da823c8row1_col2\" class=\"data row1 col2\" >$41.22</td>\n",
       "            </tr>\n",
       "            <tr>\n",
       "                        <th id=\"T_cf855dba_9259_11e9_bcca_60f81da823c8level0_row2\" class=\"row_heading level0 row2\" >108</th>\n",
       "                        <th id=\"T_cf855dba_9259_11e9_bcca_60f81da823c8level1_row2\" class=\"row_heading level1 row2\" >Extraction, Quickblade Of Trembling Hands</th>\n",
       "                        <td id=\"T_cf855dba_9259_11e9_bcca_60f81da823c8row2_col0\" class=\"data row2 col0\" >9</td>\n",
       "                        <td id=\"T_cf855dba_9259_11e9_bcca_60f81da823c8row2_col1\" class=\"data row2 col1\" >$3.53</td>\n",
       "                        <td id=\"T_cf855dba_9259_11e9_bcca_60f81da823c8row2_col2\" class=\"data row2 col2\" >$31.77</td>\n",
       "            </tr>\n",
       "            <tr>\n",
       "                        <th id=\"T_cf855dba_9259_11e9_bcca_60f81da823c8level0_row3\" class=\"row_heading level0 row3\" >82</th>\n",
       "                        <th id=\"T_cf855dba_9259_11e9_bcca_60f81da823c8level1_row3\" class=\"row_heading level1 row3\" >Nirvana</th>\n",
       "                        <td id=\"T_cf855dba_9259_11e9_bcca_60f81da823c8row3_col0\" class=\"data row3 col0\" >9</td>\n",
       "                        <td id=\"T_cf855dba_9259_11e9_bcca_60f81da823c8row3_col1\" class=\"data row3 col1\" >$4.90</td>\n",
       "                        <td id=\"T_cf855dba_9259_11e9_bcca_60f81da823c8row3_col2\" class=\"data row3 col2\" >$44.10</td>\n",
       "            </tr>\n",
       "            <tr>\n",
       "                        <th id=\"T_cf855dba_9259_11e9_bcca_60f81da823c8level0_row4\" class=\"row_heading level0 row4\" >19</th>\n",
       "                        <th id=\"T_cf855dba_9259_11e9_bcca_60f81da823c8level1_row4\" class=\"row_heading level1 row4\" >Pursuit, Cudgel of Necromancy</th>\n",
       "                        <td id=\"T_cf855dba_9259_11e9_bcca_60f81da823c8row4_col0\" class=\"data row4 col0\" >8</td>\n",
       "                        <td id=\"T_cf855dba_9259_11e9_bcca_60f81da823c8row4_col1\" class=\"data row4 col1\" >$1.02</td>\n",
       "                        <td id=\"T_cf855dba_9259_11e9_bcca_60f81da823c8row4_col2\" class=\"data row4 col2\" >$8.16</td>\n",
       "            </tr>\n",
       "    </tbody></table>"
      ],
      "text/plain": [
       "<pandas.io.formats.style.Styler at 0x120a6c5f8>"
      ]
     },
     "execution_count": 212,
     "metadata": {},
     "output_type": "execute_result"
    }
   ],
   "source": [
    "# Step 1 we need to create a new data frame based on Item ID, Item Name and Price \n",
    "item = purchase_data_disp[[\"Item ID\", \"Item Name\", \"Price\"]]\n",
    "# Step 2 then we group them by said id and name \n",
    "item_stats = item.groupby([\"Item ID\",\"Item Name\"])\n",
    "# Step 3 we add up all the times a specific product has been bought \n",
    "item_purchase_count = item_stats[\"Price\"].count()\n",
    "# Step 4 calculate value of purchase of item\n",
    "purchase_value = (item_stats[\"Price\"].sum()) \n",
    "# Step 5 individual item price for top 5\n",
    "price = purchase_value/item_purchase_count\n",
    "# Step 6 Create the new data frame\n",
    "popular_items = pd.DataFrame({\"Purchase Count\": item_purchase_count,\"Item Price\": price,\"Total Purchase Value\":purchase_value})\n",
    "# Step 7 Sort by descending order to get top 5 and because it says so\n",
    "popular_formatted = popular_items.sort_values([\"Purchase Count\"], ascending=False).head()\n",
    "# Step 8 Format the purchase value to include dollar symbol and decimal point\n",
    "popular_formatted.style.format({\"Item Price\":\"${:,.2f}\",\"Total Purchase Value\":\"${:,.2f}\"})"
   ]
  },
  {
   "cell_type": "markdown",
   "metadata": {},
   "source": [
    "## Most Profitable Items"
   ]
  },
  {
   "cell_type": "markdown",
   "metadata": {},
   "source": [
    "* Sort the above table by total purchase value in descending order\n",
    "\n",
    "\n",
    "* Optional: give the displayed data cleaner formatting\n",
    "\n",
    "\n",
    "* Display a preview of the data frame\n",
    "\n"
   ]
  },
  {
   "cell_type": "code",
   "execution_count": 217,
   "metadata": {
    "scrolled": true
   },
   "outputs": [
    {
     "data": {
      "text/html": [
       "<style  type=\"text/css\" >\n",
       "</style><table id=\"T_60203f02_9379_11e9_828d_60f81da823c8\" ><thead>    <tr>        <th class=\"blank\" ></th>        <th class=\"blank level0\" ></th>        <th class=\"col_heading level0 col0\" >Purchase Count</th>        <th class=\"col_heading level0 col1\" >Item Price</th>        <th class=\"col_heading level0 col2\" >Total Purchase Value</th>    </tr>    <tr>        <th class=\"index_name level0\" >Item ID</th>        <th class=\"index_name level1\" >Item Name</th>        <th class=\"blank\" ></th>        <th class=\"blank\" ></th>        <th class=\"blank\" ></th>    </tr></thead><tbody>\n",
       "                <tr>\n",
       "                        <th id=\"T_60203f02_9379_11e9_828d_60f81da823c8level0_row0\" class=\"row_heading level0 row0\" >178</th>\n",
       "                        <th id=\"T_60203f02_9379_11e9_828d_60f81da823c8level1_row0\" class=\"row_heading level1 row0\" >Oathbreaker, Last Hope of the Breaking Storm</th>\n",
       "                        <td id=\"T_60203f02_9379_11e9_828d_60f81da823c8row0_col0\" class=\"data row0 col0\" >12</td>\n",
       "                        <td id=\"T_60203f02_9379_11e9_828d_60f81da823c8row0_col1\" class=\"data row0 col1\" >4.23</td>\n",
       "                        <td id=\"T_60203f02_9379_11e9_828d_60f81da823c8row0_col2\" class=\"data row0 col2\" >$50.76</td>\n",
       "            </tr>\n",
       "            <tr>\n",
       "                        <th id=\"T_60203f02_9379_11e9_828d_60f81da823c8level0_row1\" class=\"row_heading level0 row1\" >82</th>\n",
       "                        <th id=\"T_60203f02_9379_11e9_828d_60f81da823c8level1_row1\" class=\"row_heading level1 row1\" >Nirvana</th>\n",
       "                        <td id=\"T_60203f02_9379_11e9_828d_60f81da823c8row1_col0\" class=\"data row1 col0\" >9</td>\n",
       "                        <td id=\"T_60203f02_9379_11e9_828d_60f81da823c8row1_col1\" class=\"data row1 col1\" >4.9</td>\n",
       "                        <td id=\"T_60203f02_9379_11e9_828d_60f81da823c8row1_col2\" class=\"data row1 col2\" >$44.10</td>\n",
       "            </tr>\n",
       "            <tr>\n",
       "                        <th id=\"T_60203f02_9379_11e9_828d_60f81da823c8level0_row2\" class=\"row_heading level0 row2\" >145</th>\n",
       "                        <th id=\"T_60203f02_9379_11e9_828d_60f81da823c8level1_row2\" class=\"row_heading level1 row2\" >Fiery Glass Crusader</th>\n",
       "                        <td id=\"T_60203f02_9379_11e9_828d_60f81da823c8row2_col0\" class=\"data row2 col0\" >9</td>\n",
       "                        <td id=\"T_60203f02_9379_11e9_828d_60f81da823c8row2_col1\" class=\"data row2 col1\" >4.58</td>\n",
       "                        <td id=\"T_60203f02_9379_11e9_828d_60f81da823c8row2_col2\" class=\"data row2 col2\" >$41.22</td>\n",
       "            </tr>\n",
       "            <tr>\n",
       "                        <th id=\"T_60203f02_9379_11e9_828d_60f81da823c8level0_row3\" class=\"row_heading level0 row3\" >92</th>\n",
       "                        <th id=\"T_60203f02_9379_11e9_828d_60f81da823c8level1_row3\" class=\"row_heading level1 row3\" >Final Critic</th>\n",
       "                        <td id=\"T_60203f02_9379_11e9_828d_60f81da823c8row3_col0\" class=\"data row3 col0\" >8</td>\n",
       "                        <td id=\"T_60203f02_9379_11e9_828d_60f81da823c8row3_col1\" class=\"data row3 col1\" >4.88</td>\n",
       "                        <td id=\"T_60203f02_9379_11e9_828d_60f81da823c8row3_col2\" class=\"data row3 col2\" >$39.04</td>\n",
       "            </tr>\n",
       "            <tr>\n",
       "                        <th id=\"T_60203f02_9379_11e9_828d_60f81da823c8level0_row4\" class=\"row_heading level0 row4\" >103</th>\n",
       "                        <th id=\"T_60203f02_9379_11e9_828d_60f81da823c8level1_row4\" class=\"row_heading level1 row4\" >Singed Scalpel</th>\n",
       "                        <td id=\"T_60203f02_9379_11e9_828d_60f81da823c8row4_col0\" class=\"data row4 col0\" >8</td>\n",
       "                        <td id=\"T_60203f02_9379_11e9_828d_60f81da823c8row4_col1\" class=\"data row4 col1\" >4.35</td>\n",
       "                        <td id=\"T_60203f02_9379_11e9_828d_60f81da823c8row4_col2\" class=\"data row4 col2\" >$34.80</td>\n",
       "            </tr>\n",
       "    </tbody></table>"
      ],
      "text/plain": [
       "<pandas.io.formats.style.Styler at 0x12146f9b0>"
      ]
     },
     "execution_count": 217,
     "metadata": {},
     "output_type": "execute_result"
    }
   ],
   "source": [
    "#sort in descending order....again \n",
    "popular_items_formatted = most_popular_items.sort_values([\"Total Purchase Value\"], ascending=False).head()\n",
    "\n",
    "#make it pretty to look at and understand....again\n",
    "popular_items_formatted.style.format({\"Average Purchase Price\":\"${:,.2f}\",\"Total Purchase Value\":\"${:,.2f}\"})"
   ]
  }
 ],
 "metadata": {
  "anaconda-cloud": {},
  "kernel_info": {
   "name": "python3"
  },
  "kernelspec": {
   "display_name": "Python 3",
   "language": "python",
   "name": "python3"
  },
  "language_info": {
   "codemirror_mode": {
    "name": "ipython",
    "version": 3
   },
   "file_extension": ".py",
   "mimetype": "text/x-python",
   "name": "python",
   "nbconvert_exporter": "python",
   "pygments_lexer": "ipython3",
   "version": "3.6.8"
  },
  "nteract": {
   "version": "0.2.0"
  }
 },
 "nbformat": 4,
 "nbformat_minor": 2
}
